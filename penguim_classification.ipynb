{
 "cells": [
  {
   "cell_type": "markdown",
   "id": "2991afd3",
   "metadata": {},
   "source": [
    "### Base de dados de medidas de bico do penguim: três classes, 333 pinguins (11 registros faltantes)\n",
    "O artigo estuda as diferenças na aparência entre machos e fêmeas, entre outras coisas. É por isso que usaremos a classificação macho/fêmea com base nas medidas corporais (como os criadores do conjunto de dados fizeram em seu artigo).\n",
    "<url>https://christophm.github.io/interpretable-ml-book/data.html#penguins</url>"
   ]
  },
  {
   "cell_type": "markdown",
   "id": "1baff753",
   "metadata": {},
   "source": [
    "Cada linha representa um pinguim e contém as seguintes informações:\n",
    "\n",
    "Sexo do pinguim (macho/fêmea), que é o alvo da classificação (sex).\n",
    "Espécie de pinguim, que pode ser de Chinstrap, Gentoo ou Adelie (species).\n",
    "Massa corporal do pinguim, medida em gramas (body_mass_g).\n",
    "Comprimento do bico, medido em milímetros (bill_length_mm).\n",
    "Profundidade do bico, medida em milímetros (bill_depth_mm).\n",
    "Comprimento da nadadeira (a “cauda”), medido em milímetros (flipper_length_mm)."
   ]
  },
  {
   "cell_type": "markdown",
   "id": "b7e5d95f",
   "metadata": {},
   "source": [
    "<img src='img/lter_penguins.jpg'></img>\n",
    "<img src='img/culmen_depth.jpg'></img>"
   ]
  },
  {
   "cell_type": "markdown",
   "id": "d2609534",
   "metadata": {},
   "source": [
    "#### Vamos ler o dataset (csv). Obtido de\n",
    "<url>https://gist.github.com/slopp/ce3b90b9168f2f921784de84fa445651#file-penguins-csv</url>"
   ]
  },
  {
   "cell_type": "code",
   "execution_count": 1,
   "id": "76608956",
   "metadata": {},
   "outputs": [],
   "source": [
    "import pandas as pd\n",
    "df = pd.read_csv('datasets/penguins.csv')"
   ]
  },
  {
   "cell_type": "code",
   "execution_count": 2,
   "id": "0c6ed19b",
   "metadata": {},
   "outputs": [
    {
     "data": {
      "text/html": [
       "<div>\n",
       "<style scoped>\n",
       "    .dataframe tbody tr th:only-of-type {\n",
       "        vertical-align: middle;\n",
       "    }\n",
       "\n",
       "    .dataframe tbody tr th {\n",
       "        vertical-align: top;\n",
       "    }\n",
       "\n",
       "    .dataframe thead th {\n",
       "        text-align: right;\n",
       "    }\n",
       "</style>\n",
       "<table border=\"1\" class=\"dataframe\">\n",
       "  <thead>\n",
       "    <tr style=\"text-align: right;\">\n",
       "      <th></th>\n",
       "      <th>rowid</th>\n",
       "      <th>species</th>\n",
       "      <th>island</th>\n",
       "      <th>bill_length_mm</th>\n",
       "      <th>bill_depth_mm</th>\n",
       "      <th>flipper_length_mm</th>\n",
       "      <th>body_mass_g</th>\n",
       "      <th>sex</th>\n",
       "      <th>year</th>\n",
       "    </tr>\n",
       "  </thead>\n",
       "  <tbody>\n",
       "    <tr>\n",
       "      <th>0</th>\n",
       "      <td>1</td>\n",
       "      <td>Adelie</td>\n",
       "      <td>Torgersen</td>\n",
       "      <td>39.1</td>\n",
       "      <td>18.7</td>\n",
       "      <td>181.0</td>\n",
       "      <td>3750.0</td>\n",
       "      <td>male</td>\n",
       "      <td>2007</td>\n",
       "    </tr>\n",
       "    <tr>\n",
       "      <th>1</th>\n",
       "      <td>2</td>\n",
       "      <td>Adelie</td>\n",
       "      <td>Torgersen</td>\n",
       "      <td>39.5</td>\n",
       "      <td>17.4</td>\n",
       "      <td>186.0</td>\n",
       "      <td>3800.0</td>\n",
       "      <td>female</td>\n",
       "      <td>2007</td>\n",
       "    </tr>\n",
       "    <tr>\n",
       "      <th>2</th>\n",
       "      <td>3</td>\n",
       "      <td>Adelie</td>\n",
       "      <td>Torgersen</td>\n",
       "      <td>40.3</td>\n",
       "      <td>18.0</td>\n",
       "      <td>195.0</td>\n",
       "      <td>3250.0</td>\n",
       "      <td>female</td>\n",
       "      <td>2007</td>\n",
       "    </tr>\n",
       "    <tr>\n",
       "      <th>3</th>\n",
       "      <td>4</td>\n",
       "      <td>Adelie</td>\n",
       "      <td>Torgersen</td>\n",
       "      <td>NaN</td>\n",
       "      <td>NaN</td>\n",
       "      <td>NaN</td>\n",
       "      <td>NaN</td>\n",
       "      <td>NaN</td>\n",
       "      <td>2007</td>\n",
       "    </tr>\n",
       "    <tr>\n",
       "      <th>4</th>\n",
       "      <td>5</td>\n",
       "      <td>Adelie</td>\n",
       "      <td>Torgersen</td>\n",
       "      <td>36.7</td>\n",
       "      <td>19.3</td>\n",
       "      <td>193.0</td>\n",
       "      <td>3450.0</td>\n",
       "      <td>female</td>\n",
       "      <td>2007</td>\n",
       "    </tr>\n",
       "  </tbody>\n",
       "</table>\n",
       "</div>"
      ],
      "text/plain": [
       "   rowid species     island  bill_length_mm  bill_depth_mm  flipper_length_mm  \\\n",
       "0      1  Adelie  Torgersen            39.1           18.7              181.0   \n",
       "1      2  Adelie  Torgersen            39.5           17.4              186.0   \n",
       "2      3  Adelie  Torgersen            40.3           18.0              195.0   \n",
       "3      4  Adelie  Torgersen             NaN            NaN                NaN   \n",
       "4      5  Adelie  Torgersen            36.7           19.3              193.0   \n",
       "\n",
       "   body_mass_g     sex  year  \n",
       "0       3750.0    male  2007  \n",
       "1       3800.0  female  2007  \n",
       "2       3250.0  female  2007  \n",
       "3          NaN     NaN  2007  \n",
       "4       3450.0  female  2007  "
      ]
     },
     "execution_count": 2,
     "metadata": {},
     "output_type": "execute_result"
    }
   ],
   "source": [
    "df.head()"
   ]
  },
  {
   "cell_type": "markdown",
   "id": "8ca42ab5",
   "metadata": {},
   "source": [
    "### Vemos que existem registros com dados faltantes. Para o propósito deste tutorial vamos contar quantas linhas tem dados faltantes e apagá-las"
   ]
  },
  {
   "cell_type": "code",
   "execution_count": 3,
   "id": "c5d74ea7",
   "metadata": {},
   "outputs": [
    {
     "name": "stdout",
     "output_type": "stream",
     "text": [
      "shape antes: (344, 9)\n",
      "rowid                 0\n",
      "species               0\n",
      "island                0\n",
      "bill_length_mm        2\n",
      "bill_depth_mm         2\n",
      "flipper_length_mm     2\n",
      "body_mass_g           2\n",
      "sex                  11\n",
      "year                  0\n",
      "dtype: int64\n",
      "shape depois: (333, 9)\n"
     ]
    }
   ],
   "source": [
    "print('shape antes: ' + str(df.shape))\n",
    "print(df.isnull().sum())\n",
    "df.dropna(inplace=True)\n",
    "print('shape depois: ' + str(df.shape))"
   ]
  },
  {
   "cell_type": "code",
   "execution_count": 4,
   "id": "7ef1477c",
   "metadata": {},
   "outputs": [
    {
     "data": {
      "text/plain": [
       "count    333.000000\n",
       "mean      17.164865\n",
       "std        1.969235\n",
       "min       13.100000\n",
       "25%       15.600000\n",
       "50%       17.300000\n",
       "75%       18.700000\n",
       "max       21.500000\n",
       "Name: bill_depth_mm, dtype: float64"
      ]
     },
     "execution_count": 4,
     "metadata": {},
     "output_type": "execute_result"
    }
   ],
   "source": [
    "df['bill_depth_mm'].describe()"
   ]
  },
  {
   "cell_type": "code",
   "execution_count": 5,
   "id": "114cc198",
   "metadata": {},
   "outputs": [
    {
     "data": {
      "text/plain": [
       "count    333.000000\n",
       "mean      43.992793\n",
       "std        5.468668\n",
       "min       32.100000\n",
       "25%       39.500000\n",
       "50%       44.500000\n",
       "75%       48.600000\n",
       "max       59.600000\n",
       "Name: bill_length_mm, dtype: float64"
      ]
     },
     "execution_count": 5,
     "metadata": {},
     "output_type": "execute_result"
    }
   ],
   "source": [
    "df['bill_length_mm'].describe()"
   ]
  },
  {
   "cell_type": "code",
   "execution_count": 6,
   "id": "5d5d0c7c",
   "metadata": {},
   "outputs": [
    {
     "data": {
      "text/plain": [
       "count    333.000000\n",
       "mean     200.966967\n",
       "std       14.015765\n",
       "min      172.000000\n",
       "25%      190.000000\n",
       "50%      197.000000\n",
       "75%      213.000000\n",
       "max      231.000000\n",
       "Name: flipper_length_mm, dtype: float64"
      ]
     },
     "execution_count": 6,
     "metadata": {},
     "output_type": "execute_result"
    }
   ],
   "source": [
    "df['flipper_length_mm'].describe()"
   ]
  },
  {
   "cell_type": "code",
   "execution_count": 7,
   "id": "4264e5a4",
   "metadata": {},
   "outputs": [
    {
     "data": {
      "text/plain": [
       "count     333.000000\n",
       "mean     4207.057057\n",
       "std       805.215802\n",
       "min      2700.000000\n",
       "25%      3550.000000\n",
       "50%      4050.000000\n",
       "75%      4775.000000\n",
       "max      6300.000000\n",
       "Name: body_mass_g, dtype: float64"
      ]
     },
     "execution_count": 7,
     "metadata": {},
     "output_type": "execute_result"
    }
   ],
   "source": [
    "df['body_mass_g'].describe()"
   ]
  },
  {
   "cell_type": "markdown",
   "id": "ceb29ad7",
   "metadata": {},
   "source": [
    "### Criar categorias para cada feature contínua em cinco quartis"
   ]
  },
  {
   "cell_type": "markdown",
   "id": "b30828cd",
   "metadata": {},
   "source": [
    "#### No tutorial constam os quartis:\n",
    "<code>(13.1,14.7]</code>, ou seja, >13.1<=14.7\n",
    "(14.7,16.3]\n",
    "(16.3,18]\n",
    "(18,19.6]\n",
    "(19.6,21.2]"
   ]
  },
  {
   "cell_type": "code",
   "execution_count": null,
   "id": "a99d7f2f",
   "metadata": {},
   "outputs": [],
   "source": [
    "quartiles = 5\n",
    "\n",
    "bill_length_mm_range = pd.qcut(df['bill_length_mm'], quartiles) \n",
    "bill_length_mm_cat = pd.qcut(df['bill_length_mm'], quartiles, labels=False)\n",
    "\n",
    "bill_depth_mm_range = pd.qcut(df['bill_depth_mm'], quartiles)\n",
    "bill_depth_mm_cat = pd.qcut(df['bill_depth_mm'], quartiles, labels=False)\n",
    "\n",
    "flipper_length_mm_range = pd.qcut(df['flipper_length_mm'], quartiles)\n",
    "flipper_length_mm_cat = pd.qcut(df['flipper_length_mm'], quartiles, labels=False)\n",
    "\n",
    "body_mass_g_range = pd.qcut(df['body_mass_g'], quartiles)\n",
    "body_mass_g_cat = pd.qcut(df['body_mass_g'], quartiles, labels=False)"
   ]
  },
  {
   "cell_type": "code",
   "execution_count": 9,
   "id": "34b3b6fa",
   "metadata": {},
   "outputs": [
    {
     "name": "stdout",
     "output_type": "stream",
     "text": [
      "bill_length_mm\n",
      "(32.099000000000004, 38.6]    69\n",
      "(38.6, 42.0]                  65\n",
      "(42.0, 46.1]                  68\n",
      "(46.1, 49.5]                  66\n",
      "(49.5, 59.6]                  65\n",
      "Name: count, dtype: int64\n",
      "bill_depth_mm\n",
      "(13.099, 15.04]    67\n",
      "(15.04, 16.8]      67\n",
      "(16.8, 17.9]       67\n",
      "(17.9, 18.9]       68\n",
      "(18.9, 21.5]       64\n",
      "Name: count, dtype: int64\n",
      "flipper_length_mm\n",
      "(171.999, 188.4]    67\n",
      "(188.4, 194.0]      67\n",
      "(194.0, 203.0]      70\n",
      "(203.0, 215.0]      65\n",
      "(215.0, 231.0]      64\n",
      "Name: count, dtype: int64\n",
      "body_mass_g\n",
      "(2699.999, 3475.0]    68\n",
      "(3475.0, 3800.0]      69\n",
      "(3800.0, 4300.0]      64\n",
      "(4300.0, 4990.0]      65\n",
      "(4990.0, 6300.0]      67\n",
      "Name: count, dtype: int64\n"
     ]
    }
   ],
   "source": [
    "df['bill_length_mm_range'] = bill_length_mm_range\n",
    "print(bill_length_mm_range.value_counts(sort=False))\n",
    "df['bill_length_mm_cat'] = bill_length_mm_cat\n",
    "\n",
    "df['bill_depth_mm_range'] = bill_depth_mm_range\n",
    "print(bill_depth_mm_range.value_counts(sort=False))\n",
    "df['bill_depth_mm_cat'] = bill_depth_mm_cat\n",
    "\n",
    "df['flipper_length_mm_range'] = bill_length_mm_range\n",
    "print(flipper_length_mm_range.value_counts(sort=False))\n",
    "df['flipper_length_mm_cat'] = bill_length_mm_cat\n",
    "\n",
    "df['body_mass_g_range'] = body_mass_g_range\n",
    "print(body_mass_g_range.value_counts(sort=False))\n",
    "df['body_mass_g_cat'] = body_mass_g_cat"
   ]
  },
  {
   "cell_type": "code",
   "execution_count": 10,
   "id": "04f36a83",
   "metadata": {},
   "outputs": [
    {
     "data": {
      "text/html": [
       "<div>\n",
       "<style scoped>\n",
       "    .dataframe tbody tr th:only-of-type {\n",
       "        vertical-align: middle;\n",
       "    }\n",
       "\n",
       "    .dataframe tbody tr th {\n",
       "        vertical-align: top;\n",
       "    }\n",
       "\n",
       "    .dataframe thead th {\n",
       "        text-align: right;\n",
       "    }\n",
       "</style>\n",
       "<table border=\"1\" class=\"dataframe\">\n",
       "  <thead>\n",
       "    <tr style=\"text-align: right;\">\n",
       "      <th></th>\n",
       "      <th>rowid</th>\n",
       "      <th>species</th>\n",
       "      <th>island</th>\n",
       "      <th>bill_length_mm</th>\n",
       "      <th>bill_depth_mm</th>\n",
       "      <th>flipper_length_mm</th>\n",
       "      <th>body_mass_g</th>\n",
       "      <th>sex</th>\n",
       "      <th>year</th>\n",
       "      <th>bill_length_mm_range</th>\n",
       "      <th>bill_length_mm_cat</th>\n",
       "      <th>bill_depth_mm_range</th>\n",
       "      <th>bill_depth_mm_cat</th>\n",
       "      <th>flipper_length_mm_range</th>\n",
       "      <th>flipper_length_mm_cat</th>\n",
       "      <th>body_mass_g_range</th>\n",
       "      <th>body_mass_g_cat</th>\n",
       "    </tr>\n",
       "  </thead>\n",
       "  <tbody>\n",
       "    <tr>\n",
       "      <th>0</th>\n",
       "      <td>1</td>\n",
       "      <td>Adelie</td>\n",
       "      <td>Torgersen</td>\n",
       "      <td>39.1</td>\n",
       "      <td>18.7</td>\n",
       "      <td>181.0</td>\n",
       "      <td>3750.0</td>\n",
       "      <td>male</td>\n",
       "      <td>2007</td>\n",
       "      <td>(38.6, 42.0]</td>\n",
       "      <td>1</td>\n",
       "      <td>(17.9, 18.9]</td>\n",
       "      <td>3</td>\n",
       "      <td>(38.6, 42.0]</td>\n",
       "      <td>1</td>\n",
       "      <td>(3475.0, 3800.0]</td>\n",
       "      <td>1</td>\n",
       "    </tr>\n",
       "    <tr>\n",
       "      <th>1</th>\n",
       "      <td>2</td>\n",
       "      <td>Adelie</td>\n",
       "      <td>Torgersen</td>\n",
       "      <td>39.5</td>\n",
       "      <td>17.4</td>\n",
       "      <td>186.0</td>\n",
       "      <td>3800.0</td>\n",
       "      <td>female</td>\n",
       "      <td>2007</td>\n",
       "      <td>(38.6, 42.0]</td>\n",
       "      <td>1</td>\n",
       "      <td>(16.8, 17.9]</td>\n",
       "      <td>2</td>\n",
       "      <td>(38.6, 42.0]</td>\n",
       "      <td>1</td>\n",
       "      <td>(3475.0, 3800.0]</td>\n",
       "      <td>1</td>\n",
       "    </tr>\n",
       "    <tr>\n",
       "      <th>2</th>\n",
       "      <td>3</td>\n",
       "      <td>Adelie</td>\n",
       "      <td>Torgersen</td>\n",
       "      <td>40.3</td>\n",
       "      <td>18.0</td>\n",
       "      <td>195.0</td>\n",
       "      <td>3250.0</td>\n",
       "      <td>female</td>\n",
       "      <td>2007</td>\n",
       "      <td>(38.6, 42.0]</td>\n",
       "      <td>1</td>\n",
       "      <td>(17.9, 18.9]</td>\n",
       "      <td>3</td>\n",
       "      <td>(38.6, 42.0]</td>\n",
       "      <td>1</td>\n",
       "      <td>(2699.999, 3475.0]</td>\n",
       "      <td>0</td>\n",
       "    </tr>\n",
       "  </tbody>\n",
       "</table>\n",
       "</div>"
      ],
      "text/plain": [
       "   rowid species     island  bill_length_mm  bill_depth_mm  flipper_length_mm  \\\n",
       "0      1  Adelie  Torgersen            39.1           18.7              181.0   \n",
       "1      2  Adelie  Torgersen            39.5           17.4              186.0   \n",
       "2      3  Adelie  Torgersen            40.3           18.0              195.0   \n",
       "\n",
       "   body_mass_g     sex  year bill_length_mm_range  bill_length_mm_cat  \\\n",
       "0       3750.0    male  2007         (38.6, 42.0]                   1   \n",
       "1       3800.0  female  2007         (38.6, 42.0]                   1   \n",
       "2       3250.0  female  2007         (38.6, 42.0]                   1   \n",
       "\n",
       "  bill_depth_mm_range  bill_depth_mm_cat flipper_length_mm_range  \\\n",
       "0        (17.9, 18.9]                  3            (38.6, 42.0]   \n",
       "1        (16.8, 17.9]                  2            (38.6, 42.0]   \n",
       "2        (17.9, 18.9]                  3            (38.6, 42.0]   \n",
       "\n",
       "   flipper_length_mm_cat   body_mass_g_range  body_mass_g_cat  \n",
       "0                      1    (3475.0, 3800.0]                1  \n",
       "1                      1    (3475.0, 3800.0]                1  \n",
       "2                      1  (2699.999, 3475.0]                0  "
      ]
     },
     "execution_count": 10,
     "metadata": {},
     "output_type": "execute_result"
    }
   ],
   "source": [
    "df.head(3)"
   ]
  },
  {
   "cell_type": "markdown",
   "id": "bbb8b84f",
   "metadata": {},
   "source": [
    "### Este é o dataframe processado e completo, mas para o algoritmo OneFeatureRule, vamos deixar apenas as colunas numéricas, pois a target é o sexo (y)"
   ]
  },
  {
   "cell_type": "code",
   "execution_count": 11,
   "id": "d5dc6198",
   "metadata": {},
   "outputs": [],
   "source": [
    "X = df.drop(columns=['rowid','species','island','bill_length_mm','bill_depth_mm','flipper_length_mm','body_mass_g', 'sex','year','bill_length_mm_range','bill_depth_mm_range','flipper_length_mm_range','body_mass_g_range'])"
   ]
  },
  {
   "cell_type": "code",
   "execution_count": 12,
   "id": "8b297d7a",
   "metadata": {},
   "outputs": [
    {
     "data": {
      "text/html": [
       "<div>\n",
       "<style scoped>\n",
       "    .dataframe tbody tr th:only-of-type {\n",
       "        vertical-align: middle;\n",
       "    }\n",
       "\n",
       "    .dataframe tbody tr th {\n",
       "        vertical-align: top;\n",
       "    }\n",
       "\n",
       "    .dataframe thead th {\n",
       "        text-align: right;\n",
       "    }\n",
       "</style>\n",
       "<table border=\"1\" class=\"dataframe\">\n",
       "  <thead>\n",
       "    <tr style=\"text-align: right;\">\n",
       "      <th></th>\n",
       "      <th>bill_length_mm_cat</th>\n",
       "      <th>bill_depth_mm_cat</th>\n",
       "      <th>flipper_length_mm_cat</th>\n",
       "      <th>body_mass_g_cat</th>\n",
       "    </tr>\n",
       "  </thead>\n",
       "  <tbody>\n",
       "    <tr>\n",
       "      <th>0</th>\n",
       "      <td>1</td>\n",
       "      <td>3</td>\n",
       "      <td>1</td>\n",
       "      <td>1</td>\n",
       "    </tr>\n",
       "    <tr>\n",
       "      <th>1</th>\n",
       "      <td>1</td>\n",
       "      <td>2</td>\n",
       "      <td>1</td>\n",
       "      <td>1</td>\n",
       "    </tr>\n",
       "    <tr>\n",
       "      <th>2</th>\n",
       "      <td>1</td>\n",
       "      <td>3</td>\n",
       "      <td>1</td>\n",
       "      <td>0</td>\n",
       "    </tr>\n",
       "    <tr>\n",
       "      <th>4</th>\n",
       "      <td>0</td>\n",
       "      <td>4</td>\n",
       "      <td>0</td>\n",
       "      <td>0</td>\n",
       "    </tr>\n",
       "    <tr>\n",
       "      <th>5</th>\n",
       "      <td>1</td>\n",
       "      <td>4</td>\n",
       "      <td>1</td>\n",
       "      <td>1</td>\n",
       "    </tr>\n",
       "    <tr>\n",
       "      <th>...</th>\n",
       "      <td>...</td>\n",
       "      <td>...</td>\n",
       "      <td>...</td>\n",
       "      <td>...</td>\n",
       "    </tr>\n",
       "    <tr>\n",
       "      <th>339</th>\n",
       "      <td>4</td>\n",
       "      <td>4</td>\n",
       "      <td>4</td>\n",
       "      <td>2</td>\n",
       "    </tr>\n",
       "    <tr>\n",
       "      <th>340</th>\n",
       "      <td>2</td>\n",
       "      <td>3</td>\n",
       "      <td>2</td>\n",
       "      <td>0</td>\n",
       "    </tr>\n",
       "    <tr>\n",
       "      <th>341</th>\n",
       "      <td>4</td>\n",
       "      <td>3</td>\n",
       "      <td>4</td>\n",
       "      <td>1</td>\n",
       "    </tr>\n",
       "    <tr>\n",
       "      <th>342</th>\n",
       "      <td>4</td>\n",
       "      <td>4</td>\n",
       "      <td>4</td>\n",
       "      <td>2</td>\n",
       "    </tr>\n",
       "    <tr>\n",
       "      <th>343</th>\n",
       "      <td>4</td>\n",
       "      <td>3</td>\n",
       "      <td>4</td>\n",
       "      <td>1</td>\n",
       "    </tr>\n",
       "  </tbody>\n",
       "</table>\n",
       "<p>333 rows × 4 columns</p>\n",
       "</div>"
      ],
      "text/plain": [
       "     bill_length_mm_cat  bill_depth_mm_cat  flipper_length_mm_cat  \\\n",
       "0                     1                  3                      1   \n",
       "1                     1                  2                      1   \n",
       "2                     1                  3                      1   \n",
       "4                     0                  4                      0   \n",
       "5                     1                  4                      1   \n",
       "..                  ...                ...                    ...   \n",
       "339                   4                  4                      4   \n",
       "340                   2                  3                      2   \n",
       "341                   4                  3                      4   \n",
       "342                   4                  4                      4   \n",
       "343                   4                  3                      4   \n",
       "\n",
       "     body_mass_g_cat  \n",
       "0                  1  \n",
       "1                  1  \n",
       "2                  0  \n",
       "4                  0  \n",
       "5                  1  \n",
       "..               ...  \n",
       "339                2  \n",
       "340                0  \n",
       "341                1  \n",
       "342                2  \n",
       "343                1  \n",
       "\n",
       "[333 rows x 4 columns]"
      ]
     },
     "execution_count": 12,
     "metadata": {},
     "output_type": "execute_result"
    }
   ],
   "source": [
    "X"
   ]
  },
  {
   "cell_type": "code",
   "execution_count": 13,
   "id": "01738be9",
   "metadata": {},
   "outputs": [
    {
     "data": {
      "text/plain": [
       "0        male\n",
       "1      female\n",
       "2      female\n",
       "4      female\n",
       "5        male\n",
       "        ...  \n",
       "339      male\n",
       "340    female\n",
       "341      male\n",
       "342      male\n",
       "343    female\n",
       "Name: sex, Length: 333, dtype: object"
      ]
     },
     "execution_count": 13,
     "metadata": {},
     "output_type": "execute_result"
    }
   ],
   "source": [
    "y = df['sex']\n",
    "y"
   ]
  },
  {
   "cell_type": "code",
   "execution_count": 14,
   "id": "5f32fe73",
   "metadata": {},
   "outputs": [
    {
     "name": "stdout",
     "output_type": "stream",
     "text": [
      "[{'feature': 'bill_length_mm_cat', 'accuracy': 0.71, 'rules': {0: 'female', 1: 'male', 2: 'female', 3: 'female', 4: 'male'}}, {'feature': 'bill_depth_mm_cat', 'accuracy': 0.76, 'rules': {0: 'female', 1: 'male', 2: 'female', 3: 'male', 4: 'male'}}, {'feature': 'flipper_length_mm_cat', 'accuracy': 0.71, 'rules': {0: 'female', 1: 'male', 2: 'female', 3: 'female', 4: 'male'}}, {'feature': 'body_mass_g_cat', 'accuracy': 0.76, 'rules': {0: 'female', 1: 'female', 2: 'male', 3: 'female', 4: 'male'}}]\n",
      "0.71\n",
      "0.76\n",
      "0.71\n",
      "0.76\n",
      "Melhor variavel de decisão para seus dados: body_mass_g_cat\n"
     ]
    }
   ],
   "source": [
    "from modules.OneFeatureRule import OneFeatureRule\n",
    "\n",
    "clf = OneFeatureRule()\n",
    "results = clf.fit(X, y)\n",
    "print(results)\n",
    "#arredondando acurácia para imprimir\n",
    "print('%.2f' % results[0]['accuracy'])\n",
    "print('%.2f' % results[1]['accuracy'])\n",
    "print('%.2f' % results[2]['accuracy'])\n",
    "print('%.2f' % results[3]['accuracy'])\n",
    "print(clf)"
   ]
  },
  {
   "cell_type": "markdown",
   "id": "0b1ade76",
   "metadata": {},
   "source": [
    "### Neste caso, considerando duas casas decimais, a regra com peso corporal e a regra com a profundidade do bico são equivalentes"
   ]
  },
  {
   "cell_type": "code",
   "execution_count": 23,
   "id": "ce440a22",
   "metadata": {},
   "outputs": [
    {
     "name": "stdout",
     "output_type": "stream",
     "text": [
      "if body_mass_g_cat in range: 0 then sex == female\n",
      "if body_mass_g_cat in range: 1 then sex == female\n",
      "if body_mass_g_cat in range: 2 then sex == male\n",
      "if body_mass_g_cat in range: 3 then sex == female\n",
      "if body_mass_g_cat in range: 4 then sex == male\n"
     ]
    }
   ],
   "source": [
    "#as regras são por sua vez um dicionário com keys (features categóricas) e valores (coluna target)\n",
    "rule_dict = results[clf.ideal_variable_index]['rules']\n",
    "\n",
    "winner_rules = []\n",
    "for k,v in rule_dict.items():\n",
    "    winner_rules.append('if ' + clf.ideal_variable + ' in range: ' + str(k) + ' then sex == ' + v)\n",
    "\n",
    "for i in range(len(winner_rules)):\n",
    "    print(winner_rules[i])"
   ]
  }
 ],
 "metadata": {
  "kernelspec": {
   "display_name": "tadsml",
   "language": "python",
   "name": "python3"
  },
  "language_info": {
   "codemirror_mode": {
    "name": "ipython",
    "version": 3
   },
   "file_extension": ".py",
   "mimetype": "text/x-python",
   "name": "python",
   "nbconvert_exporter": "python",
   "pygments_lexer": "ipython3",
   "version": "3.12.7"
  }
 },
 "nbformat": 4,
 "nbformat_minor": 5
}
